{
 "cells": [
  {
   "cell_type": "markdown",
   "metadata": {},
   "source": [
    "## **DEMANDA Y TEMPERATURA:** INFERENCIA Y ANOVA"
   ]
  },
  {
   "cell_type": "markdown",
   "metadata": {},
   "source": [
    "#### **1) Importamos libreria útiles:**"
   ]
  },
  {
   "cell_type": "code",
   "execution_count": 2,
   "metadata": {},
   "outputs": [],
   "source": [
    "import os\n",
    "import pandas as pd\n",
    "import numpy as np\n",
    "import matplotlib.pyplot as plt\n",
    "import seaborn as sns\n",
    "import datetime\n",
    "\n",
    "sns.set(style=\"darkgrid\")\n",
    "maxScatter = 3000"
   ]
  },
  {
   "cell_type": "markdown",
   "metadata": {},
   "source": [
    "#### **2) Cargamos datos:**"
   ]
  },
  {
   "cell_type": "markdown",
   "metadata": {},
   "source": [
    "- Comprobamos que trabajamos en el directorio correcto y cargamos datos de carpeta \"data\":"
   ]
  },
  {
   "cell_type": "code",
   "execution_count": 20,
   "metadata": {},
   "outputs": [
    {
     "name": "stdout",
     "output_type": "stream",
     "text": [
      "Current working directory: c:\\Users\\serov\\Documents\\GitHub\\TRABAJO-1-ESTADISTICA-DESCRIPTIVA\\notebooks\n",
      "Tokenization took: 2.00 ms\n",
      "Type conversion took: 2.01 ms\n",
      "Parser memory cleanup took: 0.00 ms\n"
     ]
    },
    {
     "data": {
      "text/html": [
       "<div>\n",
       "<style scoped>\n",
       "    .dataframe tbody tr th:only-of-type {\n",
       "        vertical-align: middle;\n",
       "    }\n",
       "\n",
       "    .dataframe tbody tr th {\n",
       "        vertical-align: top;\n",
       "    }\n",
       "\n",
       "    .dataframe thead th {\n",
       "        text-align: right;\n",
       "    }\n",
       "</style>\n",
       "<table border=\"1\" class=\"dataframe\">\n",
       "  <thead>\n",
       "    <tr style=\"text-align: right;\">\n",
       "      <th></th>\n",
       "      <th>FECHA</th>\n",
       "      <th>DEM</th>\n",
       "      <th>TMAX</th>\n",
       "      <th>TMIN</th>\n",
       "      <th>FEST</th>\n",
       "      <th>ANNO</th>\n",
       "      <th>MES</th>\n",
       "      <th>DIA</th>\n",
       "      <th>DIASEM</th>\n",
       "    </tr>\n",
       "  </thead>\n",
       "  <tbody>\n",
       "    <tr>\n",
       "      <th>0</th>\n",
       "      <td>2014-01-01</td>\n",
       "      <td>695.150000</td>\n",
       "      <td>14.500000</td>\n",
       "      <td>4.900000</td>\n",
       "      <td>1</td>\n",
       "      <td>2014</td>\n",
       "      <td>1</td>\n",
       "      <td>1</td>\n",
       "      <td>3</td>\n",
       "    </tr>\n",
       "    <tr>\n",
       "      <th>1</th>\n",
       "      <td>2014-01-02</td>\n",
       "      <td>848.520000</td>\n",
       "      <td>17.900000</td>\n",
       "      <td>8.300000</td>\n",
       "      <td>0</td>\n",
       "      <td>2014</td>\n",
       "      <td>1</td>\n",
       "      <td>2</td>\n",
       "      <td>4</td>\n",
       "    </tr>\n",
       "    <tr>\n",
       "      <th>2</th>\n",
       "      <td>2014-01-03</td>\n",
       "      <td>842.250000</td>\n",
       "      <td>18.000000</td>\n",
       "      <td>10.800000</td>\n",
       "      <td>0</td>\n",
       "      <td>2014</td>\n",
       "      <td>1</td>\n",
       "      <td>3</td>\n",
       "      <td>5</td>\n",
       "    </tr>\n",
       "    <tr>\n",
       "      <th>3</th>\n",
       "      <td>2014-01-04</td>\n",
       "      <td>790.870000</td>\n",
       "      <td>14.800000</td>\n",
       "      <td>9.900000</td>\n",
       "      <td>0</td>\n",
       "      <td>2014</td>\n",
       "      <td>1</td>\n",
       "      <td>4</td>\n",
       "      <td>6</td>\n",
       "    </tr>\n",
       "    <tr>\n",
       "      <th>4</th>\n",
       "      <td>2014-01-05</td>\n",
       "      <td>765.880000</td>\n",
       "      <td>15.500000</td>\n",
       "      <td>8.300000</td>\n",
       "      <td>0</td>\n",
       "      <td>2014</td>\n",
       "      <td>1</td>\n",
       "      <td>5</td>\n",
       "      <td>7</td>\n",
       "    </tr>\n",
       "    <tr>\n",
       "      <th>...</th>\n",
       "      <td>...</td>\n",
       "      <td>...</td>\n",
       "      <td>...</td>\n",
       "      <td>...</td>\n",
       "      <td>...</td>\n",
       "      <td>...</td>\n",
       "      <td>...</td>\n",
       "      <td>...</td>\n",
       "      <td>...</td>\n",
       "    </tr>\n",
       "    <tr>\n",
       "      <th>2950</th>\n",
       "      <td>2022-01-29</td>\n",
       "      <td>897.963540</td>\n",
       "      <td>14.928054</td>\n",
       "      <td>7.128469</td>\n",
       "      <td>0</td>\n",
       "      <td>2022</td>\n",
       "      <td>1</td>\n",
       "      <td>29</td>\n",
       "      <td>6</td>\n",
       "    </tr>\n",
       "    <tr>\n",
       "      <th>2951</th>\n",
       "      <td>2022-01-30</td>\n",
       "      <td>883.656025</td>\n",
       "      <td>14.921389</td>\n",
       "      <td>7.131950</td>\n",
       "      <td>0</td>\n",
       "      <td>2022</td>\n",
       "      <td>1</td>\n",
       "      <td>30</td>\n",
       "      <td>7</td>\n",
       "    </tr>\n",
       "    <tr>\n",
       "      <th>2952</th>\n",
       "      <td>2022-01-31</td>\n",
       "      <td>1016.937007</td>\n",
       "      <td>14.914723</td>\n",
       "      <td>7.135431</td>\n",
       "      <td>0</td>\n",
       "      <td>2022</td>\n",
       "      <td>1</td>\n",
       "      <td>31</td>\n",
       "      <td>1</td>\n",
       "    </tr>\n",
       "    <tr>\n",
       "      <th>2953</th>\n",
       "      <td>2022-02-01</td>\n",
       "      <td>1014.929731</td>\n",
       "      <td>14.908058</td>\n",
       "      <td>7.138912</td>\n",
       "      <td>0</td>\n",
       "      <td>2022</td>\n",
       "      <td>2</td>\n",
       "      <td>1</td>\n",
       "      <td>2</td>\n",
       "    </tr>\n",
       "    <tr>\n",
       "      <th>2954</th>\n",
       "      <td>2022-02-02</td>\n",
       "      <td>970.261870</td>\n",
       "      <td>14.951011</td>\n",
       "      <td>7.142393</td>\n",
       "      <td>0</td>\n",
       "      <td>2022</td>\n",
       "      <td>2</td>\n",
       "      <td>2</td>\n",
       "      <td>3</td>\n",
       "    </tr>\n",
       "  </tbody>\n",
       "</table>\n",
       "<p>2955 rows × 9 columns</p>\n",
       "</div>"
      ],
      "text/plain": [
       "          FECHA          DEM       TMAX       TMIN  FEST  ANNO  MES  DIA  \\\n",
       "0    2014-01-01   695.150000  14.500000   4.900000     1  2014    1    1   \n",
       "1    2014-01-02   848.520000  17.900000   8.300000     0  2014    1    2   \n",
       "2    2014-01-03   842.250000  18.000000  10.800000     0  2014    1    3   \n",
       "3    2014-01-04   790.870000  14.800000   9.900000     0  2014    1    4   \n",
       "4    2014-01-05   765.880000  15.500000   8.300000     0  2014    1    5   \n",
       "...         ...          ...        ...        ...   ...   ...  ...  ...   \n",
       "2950 2022-01-29   897.963540  14.928054   7.128469     0  2022    1   29   \n",
       "2951 2022-01-30   883.656025  14.921389   7.131950     0  2022    1   30   \n",
       "2952 2022-01-31  1016.937007  14.914723   7.135431     0  2022    1   31   \n",
       "2953 2022-02-01  1014.929731  14.908058   7.138912     0  2022    2    1   \n",
       "2954 2022-02-02   970.261870  14.951011   7.142393     0  2022    2    2   \n",
       "\n",
       "      DIASEM  \n",
       "0          3  \n",
       "1          4  \n",
       "2          5  \n",
       "3          6  \n",
       "4          7  \n",
       "...      ...  \n",
       "2950       6  \n",
       "2951       7  \n",
       "2952       1  \n",
       "2953       2  \n",
       "2954       3  \n",
       "\n",
       "[2955 rows x 9 columns]"
      ]
     },
     "execution_count": 20,
     "metadata": {},
     "output_type": "execute_result"
    }
   ],
   "source": [
    "dir = os.getcwd()\n",
    "DIR = dir\n",
    "print('Current working directory:', os.getcwd())\n",
    "\n",
    "\n",
    "# Nos guardamos los datos que queremos en un dataframe usando pandas\n",
    "dataframe = pd.read_csv('..\\data\\G02_DATOS_DEM_G1.csv', sep=',', verbose=True)\n",
    "dataframe['FECHA'] = pd.to_datetime(dataframe['FECHA'], format='%d/%m/%Y')\n",
    "\n",
    "def permutar_DIASEM(x):\n",
    "    return (x + 5) % 7 + 1\n",
    "\n",
    "dataframe['DIASEM'] = dataframe['DIASEM'].apply(permutar_DIASEM)\n",
    "dataframe"
   ]
  },
  {
   "cell_type": "markdown",
   "metadata": {},
   "source": [
    "#### **3) Estimación TMAX esperada en julio:**"
   ]
  },
  {
   "cell_type": "code",
   "execution_count": 25,
   "metadata": {},
   "outputs": [
    {
     "data": {
      "text/plain": [
       "(28.883724709361093, 29.25892353933904)"
      ]
     },
     "execution_count": 25,
     "metadata": {},
     "output_type": "execute_result"
    }
   ],
   "source": [
    "import scipy.stats as stats\n",
    "\n",
    "stats.norm.interval(alpha=0.95,\n",
    "                 loc=np.mean(dataframe[dataframe['MES'] == 7]['TMAX']),\n",
    "                 scale=stats.sem(dataframe[dataframe['MES'] == 7]['TMAX']))"
   ]
  },
  {
   "cell_type": "markdown",
   "metadata": {},
   "source": [
    "#### **4) Distribución TMAX según los meses del año:**"
   ]
  },
  {
   "cell_type": "code",
   "execution_count": 26,
   "metadata": {},
   "outputs": [
    {
     "data": {
      "text/plain": [
       "<seaborn.axisgrid.FacetGrid at 0x27b9ce7c6a0>"
      ]
     },
     "execution_count": 26,
     "metadata": {},
     "output_type": "execute_result"
    },
    {
     "data": {
      "image/png": "[encoded data removed]",
      "text/plain": [
       "<Figure size 360x360 with 1 Axes>"
      ]
     },
     "metadata": {},
     "output_type": "display_data"
    },
    {
     "data": {
      "image/png": "[encoded data removed]",
      "text/plain": [
       "<Figure size 360x360 with 1 Axes>"
      ]
     },
     "metadata": {},
     "output_type": "display_data"
    }
   ],
   "source": [
    "sns.displot(dataframe['TMAX'])\n",
    "sns.displot(dataframe['TMAX'], kind=\"kde\", bw_adjust=1)"
   ]
  },
  {
   "cell_type": "markdown",
   "metadata": {},
   "source": [
    "#### **5) Distribución de la demanda de los laborables según los meses del año:**"
   ]
  },
  {
   "cell_type": "code",
   "execution_count": 27,
   "metadata": {},
   "outputs": [
    {
     "data": {
      "text/plain": [
       "<seaborn.axisgrid.FacetGrid at 0x27b9f577220>"
      ]
     },
     "execution_count": 27,
     "metadata": {},
     "output_type": "execute_result"
    },
    {
     "data": {
      "image/png": "[encoded data removed]",
      "text/plain": [
       "<Figure size 360x360 with 1 Axes>"
      ]
     },
     "metadata": {},
     "output_type": "display_data"
    }
   ],
   "source": [
    "dataframe_dias_festivos = dataframe[dataframe['FEST'] == 1]\n",
    "dataframe_sab_dom = dataframe[dataframe['DIASEM'] >= 6]\n",
    "\n",
    "# Unimos con días festivos\n",
    "dataframe_no_laborales = pd.concat([dataframe_dias_festivos, dataframe_sab_dom]).sort_values(by='FECHA')\n",
    "# Quitamos duplicados\n",
    "dataframe_no_laborales = dataframe_no_laborales.drop_duplicates()\n",
    "dataframe_laborales = dataframe[dataframe['FECHA'].isin(dataframe_no_laborales['FECHA']) == False]\n",
    "sns.displot(dataframe_laborales['DEM'])"
   ]
  },
  {
   "cell_type": "markdown",
   "metadata": {},
   "source": [
    "#### **6) ANOVA de la demanda de los laborales con los meses:**"
   ]
  },
  {
   "cell_type": "code",
   "execution_count": 34,
   "metadata": {},
   "outputs": [
    {
     "data": {
      "text/html": [
       "<div>\n",
       "<style scoped>\n",
       "    .dataframe tbody tr th:only-of-type {\n",
       "        vertical-align: middle;\n",
       "    }\n",
       "\n",
       "    .dataframe tbody tr th {\n",
       "        vertical-align: top;\n",
       "    }\n",
       "\n",
       "    .dataframe thead th {\n",
       "        text-align: right;\n",
       "    }\n",
       "</style>\n",
       "<table border=\"1\" class=\"dataframe\">\n",
       "  <thead>\n",
       "    <tr style=\"text-align: right;\">\n",
       "      <th></th>\n",
       "      <th>SS</th>\n",
       "      <th>df</th>\n",
       "      <th>MS</th>\n",
       "      <th>F</th>\n",
       "      <th>P-value</th>\n",
       "      <th>F crit</th>\n",
       "    </tr>\n",
       "    <tr>\n",
       "      <th>Source of Variation</th>\n",
       "      <th></th>\n",
       "      <th></th>\n",
       "      <th></th>\n",
       "      <th></th>\n",
       "      <th></th>\n",
       "      <th></th>\n",
       "    </tr>\n",
       "  </thead>\n",
       "  <tbody>\n",
       "    <tr>\n",
       "      <th>Between Groups</th>\n",
       "      <td>46877593.670329</td>\n",
       "      <td>11</td>\n",
       "      <td>4261599.424575</td>\n",
       "      <td>755.054082</td>\n",
       "      <td>0.0</td>\n",
       "      <td>1.999077</td>\n",
       "    </tr>\n",
       "    <tr>\n",
       "      <th>Within Groups</th>\n",
       "      <td>11463163.548962</td>\n",
       "      <td>2031</td>\n",
       "      <td>5644.098252</td>\n",
       "      <td></td>\n",
       "      <td></td>\n",
       "      <td></td>\n",
       "    </tr>\n",
       "    <tr>\n",
       "      <th>Total</th>\n",
       "      <td>58340757.21929</td>\n",
       "      <td>2042</td>\n",
       "      <td>28570.400205</td>\n",
       "      <td></td>\n",
       "      <td></td>\n",
       "      <td></td>\n",
       "    </tr>\n",
       "  </tbody>\n",
       "</table>\n",
       "</div>"
      ],
      "text/plain": [
       "                                  SS    df              MS           F  \\\n",
       "Source of Variation                                                      \n",
       "Between Groups       46877593.670329    11  4261599.424575  755.054082   \n",
       "Within Groups        11463163.548962  2031     5644.098252               \n",
       "Total                 58340757.21929  2042    28570.400205               \n",
       "\n",
       "                    P-value    F crit  \n",
       "Source of Variation                    \n",
       "Between Groups          0.0  1.999077  \n",
       "Within Groups                          \n",
       "Total                                  "
      ]
     },
     "execution_count": 34,
     "metadata": {},
     "output_type": "execute_result"
    }
   ],
   "source": [
    "\n",
    "# Create ANOVA backbone table\n",
    "data = [['Between Groups', '', '', '', '', '', ''], ['Within Groups', '', '', '', '', '', ''], ['Total', '', '', '', '', '', '']] \n",
    "anova_table = pd.DataFrame(data, columns = ['Source of Variation', 'SS', 'df', 'MS', 'F', 'P-value', 'F crit']) \n",
    "anova_table.set_index('Source of Variation', inplace = True)\n",
    "# calculate SSTR and update anova table\n",
    "x_bar = dataframe_laborales['DEM'].mean()\n",
    "SSTR = dataframe_laborales.groupby('MES').count() * (dataframe_laborales.groupby('MES').mean() - x_bar)**2\n",
    "anova_table['SS']['Between Groups'] = SSTR['DEM'].sum()\n",
    "\n",
    "# calculate SSE and update anova table\n",
    "SSE = (dataframe_laborales.groupby('MES').count() - 1) * dataframe_laborales.groupby('MES').std()**2\n",
    "anova_table['SS']['Within Groups'] = SSE['DEM'].sum()\n",
    "\n",
    "# calculate SSTR and update anova table\n",
    "SSTR = SSTR['DEM'].sum() + SSE['DEM'].sum()\n",
    "anova_table['SS']['Total'] = SSTR\n",
    "\n",
    "# update degree of freedom\n",
    "anova_table['df']['Between Groups'] = dataframe_laborales['MES'].nunique() - 1\n",
    "anova_table['df']['Within Groups'] = dataframe_laborales.shape[0] - dataframe_laborales['MES'].nunique()\n",
    "anova_table['df']['Total'] = dataframe_laborales.shape[0] - 1\n",
    "\n",
    "# calculate MS\n",
    "anova_table['MS'] = anova_table['SS'] / anova_table['df']\n",
    "\n",
    "# calculate F \n",
    "F = anova_table['MS']['Between Groups'] / anova_table['MS']['Within Groups']\n",
    "anova_table['F']['Between Groups'] = F\n",
    "\n",
    "# p-value\n",
    "anova_table['P-value']['Between Groups'] = 1 - stats.f.cdf(F, anova_table['df']['Between Groups'], anova_table['df']['Within Groups'])\n",
    "\n",
    "# F critical \n",
    "alpha = 0.05\n",
    "# possible types \"right-tailed, left-tailed, two-tailed\"\n",
    "tail_hypothesis_type = \"two-tailed\"\n",
    "if tail_hypothesis_type == \"two-tailed\":\n",
    "    alpha /= 2\n",
    "anova_table['F crit']['Between Groups'] = stats.f.ppf(1-alpha, anova_table['df']['Between Groups'], anova_table['df']['Within Groups'])\n",
    "\n",
    "# Final ANOVA Table\n",
    "anova_table"
   ]
  }
 ],
 "metadata": {
  "interpreter": {
   "hash": "de551ae29a31beb987df85ec7af51aa774971771a5c6a335d24a1a7d41418689"
  },
  "kernelspec": {
   "display_name": "Python 3.10.3 64-bit (windows store)",
   "language": "python",
   "name": "python3"
  },
  "language_info": {
   "codemirror_mode": {
    "name": "ipython",
    "version": 3
   },
   "file_extension": ".py",
   "mimetype": "text/x-python",
   "name": "python",
   "nbconvert_exporter": "python",
   "pygments_lexer": "ipython3",
   "version": "3.10.4"
  },
  "orig_nbformat": 4
 },
 "nbformat": 4,
 "nbformat_minor": 2
}
